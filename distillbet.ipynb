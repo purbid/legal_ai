{
  "nbformat": 4,
  "nbformat_minor": 0,
  "metadata": {
    "colab": {
      "name": "distillbet.ipynb",
      "provenance": [],
      "mount_file_id": "1-eDxYYX7zgX8KLZzDRLv4vXJN4l2XGhW",
      "authorship_tag": "ABX9TyOowTJFTaCBjGvsFrKUgoU0",
      "include_colab_link": true
    },
    "kernelspec": {
      "name": "python3",
      "display_name": "Python 3"
    },
    "accelerator": "GPU",
    "widgets": {
      "application/vnd.jupyter.widget-state+json": {
        "e157845317a24e5e907d390d9505e77c": {
          "model_module": "@jupyter-widgets/controls",
          "model_name": "HBoxModel",
          "state": {
            "_view_name": "HBoxView",
            "_dom_classes": [],
            "_model_name": "HBoxModel",
            "_view_module": "@jupyter-widgets/controls",
            "_model_module_version": "1.5.0",
            "_view_count": null,
            "_view_module_version": "1.5.0",
            "box_style": "",
            "layout": "IPY_MODEL_fdce2c0e5bca449daa1debaa8c061d74",
            "_model_module": "@jupyter-widgets/controls",
            "children": [
              "IPY_MODEL_1b6ba66ced0c446c950d3fbd5de82772",
              "IPY_MODEL_27ef7d7f4d664a048d4fe4e379aec1a8"
            ]
          }
        },
        "fdce2c0e5bca449daa1debaa8c061d74": {
          "model_module": "@jupyter-widgets/base",
          "model_name": "LayoutModel",
          "state": {
            "_view_name": "LayoutView",
            "grid_template_rows": null,
            "right": null,
            "justify_content": null,
            "_view_module": "@jupyter-widgets/base",
            "overflow": null,
            "_model_module_version": "1.2.0",
            "_view_count": null,
            "flex_flow": null,
            "width": null,
            "min_width": null,
            "border": null,
            "align_items": null,
            "bottom": null,
            "_model_module": "@jupyter-widgets/base",
            "top": null,
            "grid_column": null,
            "overflow_y": null,
            "overflow_x": null,
            "grid_auto_flow": null,
            "grid_area": null,
            "grid_template_columns": null,
            "flex": null,
            "_model_name": "LayoutModel",
            "justify_items": null,
            "grid_row": null,
            "max_height": null,
            "align_content": null,
            "visibility": null,
            "align_self": null,
            "height": null,
            "min_height": null,
            "padding": null,
            "grid_auto_rows": null,
            "grid_gap": null,
            "max_width": null,
            "order": null,
            "_view_module_version": "1.2.0",
            "grid_template_areas": null,
            "object_position": null,
            "object_fit": null,
            "grid_auto_columns": null,
            "margin": null,
            "display": null,
            "left": null
          }
        },
        "1b6ba66ced0c446c950d3fbd5de82772": {
          "model_module": "@jupyter-widgets/controls",
          "model_name": "FloatProgressModel",
          "state": {
            "_view_name": "ProgressView",
            "style": "IPY_MODEL_19b1eea34cfe40509b97dae70dcfbbcb",
            "_dom_classes": [],
            "description": "Downloading: 100%",
            "_model_name": "FloatProgressModel",
            "bar_style": "success",
            "max": 442,
            "_view_module": "@jupyter-widgets/controls",
            "_model_module_version": "1.5.0",
            "value": 442,
            "_view_count": null,
            "_view_module_version": "1.5.0",
            "orientation": "horizontal",
            "min": 0,
            "description_tooltip": null,
            "_model_module": "@jupyter-widgets/controls",
            "layout": "IPY_MODEL_2f7c8783b6a14e0689c713fcfd0e67cf"
          }
        },
        "27ef7d7f4d664a048d4fe4e379aec1a8": {
          "model_module": "@jupyter-widgets/controls",
          "model_name": "HTMLModel",
          "state": {
            "_view_name": "HTMLView",
            "style": "IPY_MODEL_fe612410a5fc43ae9bcb7bd42aba82bf",
            "_dom_classes": [],
            "description": "",
            "_model_name": "HTMLModel",
            "placeholder": "​",
            "_view_module": "@jupyter-widgets/controls",
            "_model_module_version": "1.5.0",
            "value": " 442/442 [00:32&lt;00:00, 13.5B/s]",
            "_view_count": null,
            "_view_module_version": "1.5.0",
            "description_tooltip": null,
            "_model_module": "@jupyter-widgets/controls",
            "layout": "IPY_MODEL_616fcb0eeeb84e919a5a8edc13cd4d07"
          }
        },
        "19b1eea34cfe40509b97dae70dcfbbcb": {
          "model_module": "@jupyter-widgets/controls",
          "model_name": "ProgressStyleModel",
          "state": {
            "_view_name": "StyleView",
            "_model_name": "ProgressStyleModel",
            "description_width": "initial",
            "_view_module": "@jupyter-widgets/base",
            "_model_module_version": "1.5.0",
            "_view_count": null,
            "_view_module_version": "1.2.0",
            "bar_color": null,
            "_model_module": "@jupyter-widgets/controls"
          }
        },
        "2f7c8783b6a14e0689c713fcfd0e67cf": {
          "model_module": "@jupyter-widgets/base",
          "model_name": "LayoutModel",
          "state": {
            "_view_name": "LayoutView",
            "grid_template_rows": null,
            "right": null,
            "justify_content": null,
            "_view_module": "@jupyter-widgets/base",
            "overflow": null,
            "_model_module_version": "1.2.0",
            "_view_count": null,
            "flex_flow": null,
            "width": null,
            "min_width": null,
            "border": null,
            "align_items": null,
            "bottom": null,
            "_model_module": "@jupyter-widgets/base",
            "top": null,
            "grid_column": null,
            "overflow_y": null,
            "overflow_x": null,
            "grid_auto_flow": null,
            "grid_area": null,
            "grid_template_columns": null,
            "flex": null,
            "_model_name": "LayoutModel",
            "justify_items": null,
            "grid_row": null,
            "max_height": null,
            "align_content": null,
            "visibility": null,
            "align_self": null,
            "height": null,
            "min_height": null,
            "padding": null,
            "grid_auto_rows": null,
            "grid_gap": null,
            "max_width": null,
            "order": null,
            "_view_module_version": "1.2.0",
            "grid_template_areas": null,
            "object_position": null,
            "object_fit": null,
            "grid_auto_columns": null,
            "margin": null,
            "display": null,
            "left": null
          }
        },
        "fe612410a5fc43ae9bcb7bd42aba82bf": {
          "model_module": "@jupyter-widgets/controls",
          "model_name": "DescriptionStyleModel",
          "state": {
            "_view_name": "StyleView",
            "_model_name": "DescriptionStyleModel",
            "description_width": "",
            "_view_module": "@jupyter-widgets/base",
            "_model_module_version": "1.5.0",
            "_view_count": null,
            "_view_module_version": "1.2.0",
            "_model_module": "@jupyter-widgets/controls"
          }
        },
        "616fcb0eeeb84e919a5a8edc13cd4d07": {
          "model_module": "@jupyter-widgets/base",
          "model_name": "LayoutModel",
          "state": {
            "_view_name": "LayoutView",
            "grid_template_rows": null,
            "right": null,
            "justify_content": null,
            "_view_module": "@jupyter-widgets/base",
            "overflow": null,
            "_model_module_version": "1.2.0",
            "_view_count": null,
            "flex_flow": null,
            "width": null,
            "min_width": null,
            "border": null,
            "align_items": null,
            "bottom": null,
            "_model_module": "@jupyter-widgets/base",
            "top": null,
            "grid_column": null,
            "overflow_y": null,
            "overflow_x": null,
            "grid_auto_flow": null,
            "grid_area": null,
            "grid_template_columns": null,
            "flex": null,
            "_model_name": "LayoutModel",
            "justify_items": null,
            "grid_row": null,
            "max_height": null,
            "align_content": null,
            "visibility": null,
            "align_self": null,
            "height": null,
            "min_height": null,
            "padding": null,
            "grid_auto_rows": null,
            "grid_gap": null,
            "max_width": null,
            "order": null,
            "_view_module_version": "1.2.0",
            "grid_template_areas": null,
            "object_position": null,
            "object_fit": null,
            "grid_auto_columns": null,
            "margin": null,
            "display": null,
            "left": null
          }
        },
        "d6db1841f9db4d24ba0d8d12c4c874e0": {
          "model_module": "@jupyter-widgets/controls",
          "model_name": "HBoxModel",
          "state": {
            "_view_name": "HBoxView",
            "_dom_classes": [],
            "_model_name": "HBoxModel",
            "_view_module": "@jupyter-widgets/controls",
            "_model_module_version": "1.5.0",
            "_view_count": null,
            "_view_module_version": "1.5.0",
            "box_style": "",
            "layout": "IPY_MODEL_94c8a9b4ff90445994aca623dde7982d",
            "_model_module": "@jupyter-widgets/controls",
            "children": [
              "IPY_MODEL_17b217fb05844d1aaae52a4c2f2c9cad",
              "IPY_MODEL_189c56b3dc384b23b16eee54566c6074"
            ]
          }
        },
        "94c8a9b4ff90445994aca623dde7982d": {
          "model_module": "@jupyter-widgets/base",
          "model_name": "LayoutModel",
          "state": {
            "_view_name": "LayoutView",
            "grid_template_rows": null,
            "right": null,
            "justify_content": null,
            "_view_module": "@jupyter-widgets/base",
            "overflow": null,
            "_model_module_version": "1.2.0",
            "_view_count": null,
            "flex_flow": null,
            "width": null,
            "min_width": null,
            "border": null,
            "align_items": null,
            "bottom": null,
            "_model_module": "@jupyter-widgets/base",
            "top": null,
            "grid_column": null,
            "overflow_y": null,
            "overflow_x": null,
            "grid_auto_flow": null,
            "grid_area": null,
            "grid_template_columns": null,
            "flex": null,
            "_model_name": "LayoutModel",
            "justify_items": null,
            "grid_row": null,
            "max_height": null,
            "align_content": null,
            "visibility": null,
            "align_self": null,
            "height": null,
            "min_height": null,
            "padding": null,
            "grid_auto_rows": null,
            "grid_gap": null,
            "max_width": null,
            "order": null,
            "_view_module_version": "1.2.0",
            "grid_template_areas": null,
            "object_position": null,
            "object_fit": null,
            "grid_auto_columns": null,
            "margin": null,
            "display": null,
            "left": null
          }
        },
        "17b217fb05844d1aaae52a4c2f2c9cad": {
          "model_module": "@jupyter-widgets/controls",
          "model_name": "FloatProgressModel",
          "state": {
            "_view_name": "ProgressView",
            "style": "IPY_MODEL_023935923c8b4dd692ef526e6b03f14d",
            "_dom_classes": [],
            "description": "Downloading: 100%",
            "_model_name": "FloatProgressModel",
            "bar_style": "success",
            "max": 267967963,
            "_view_module": "@jupyter-widgets/controls",
            "_model_module_version": "1.5.0",
            "value": 267967963,
            "_view_count": null,
            "_view_module_version": "1.5.0",
            "orientation": "horizontal",
            "min": 0,
            "description_tooltip": null,
            "_model_module": "@jupyter-widgets/controls",
            "layout": "IPY_MODEL_abc03c326613463da34e7393c9e4fede"
          }
        },
        "189c56b3dc384b23b16eee54566c6074": {
          "model_module": "@jupyter-widgets/controls",
          "model_name": "HTMLModel",
          "state": {
            "_view_name": "HTMLView",
            "style": "IPY_MODEL_15c44d2bf4184799bab222abbb1e050a",
            "_dom_classes": [],
            "description": "",
            "_model_name": "HTMLModel",
            "placeholder": "​",
            "_view_module": "@jupyter-widgets/controls",
            "_model_module_version": "1.5.0",
            "value": " 268M/268M [00:05&lt;00:00, 46.6MB/s]",
            "_view_count": null,
            "_view_module_version": "1.5.0",
            "description_tooltip": null,
            "_model_module": "@jupyter-widgets/controls",
            "layout": "IPY_MODEL_8e025d0c916f4599bee1a079e0055e6a"
          }
        },
        "023935923c8b4dd692ef526e6b03f14d": {
          "model_module": "@jupyter-widgets/controls",
          "model_name": "ProgressStyleModel",
          "state": {
            "_view_name": "StyleView",
            "_model_name": "ProgressStyleModel",
            "description_width": "initial",
            "_view_module": "@jupyter-widgets/base",
            "_model_module_version": "1.5.0",
            "_view_count": null,
            "_view_module_version": "1.2.0",
            "bar_color": null,
            "_model_module": "@jupyter-widgets/controls"
          }
        },
        "abc03c326613463da34e7393c9e4fede": {
          "model_module": "@jupyter-widgets/base",
          "model_name": "LayoutModel",
          "state": {
            "_view_name": "LayoutView",
            "grid_template_rows": null,
            "right": null,
            "justify_content": null,
            "_view_module": "@jupyter-widgets/base",
            "overflow": null,
            "_model_module_version": "1.2.0",
            "_view_count": null,
            "flex_flow": null,
            "width": null,
            "min_width": null,
            "border": null,
            "align_items": null,
            "bottom": null,
            "_model_module": "@jupyter-widgets/base",
            "top": null,
            "grid_column": null,
            "overflow_y": null,
            "overflow_x": null,
            "grid_auto_flow": null,
            "grid_area": null,
            "grid_template_columns": null,
            "flex": null,
            "_model_name": "LayoutModel",
            "justify_items": null,
            "grid_row": null,
            "max_height": null,
            "align_content": null,
            "visibility": null,
            "align_self": null,
            "height": null,
            "min_height": null,
            "padding": null,
            "grid_auto_rows": null,
            "grid_gap": null,
            "max_width": null,
            "order": null,
            "_view_module_version": "1.2.0",
            "grid_template_areas": null,
            "object_position": null,
            "object_fit": null,
            "grid_auto_columns": null,
            "margin": null,
            "display": null,
            "left": null
          }
        },
        "15c44d2bf4184799bab222abbb1e050a": {
          "model_module": "@jupyter-widgets/controls",
          "model_name": "DescriptionStyleModel",
          "state": {
            "_view_name": "StyleView",
            "_model_name": "DescriptionStyleModel",
            "description_width": "",
            "_view_module": "@jupyter-widgets/base",
            "_model_module_version": "1.5.0",
            "_view_count": null,
            "_view_module_version": "1.2.0",
            "_model_module": "@jupyter-widgets/controls"
          }
        },
        "8e025d0c916f4599bee1a079e0055e6a": {
          "model_module": "@jupyter-widgets/base",
          "model_name": "LayoutModel",
          "state": {
            "_view_name": "LayoutView",
            "grid_template_rows": null,
            "right": null,
            "justify_content": null,
            "_view_module": "@jupyter-widgets/base",
            "overflow": null,
            "_model_module_version": "1.2.0",
            "_view_count": null,
            "flex_flow": null,
            "width": null,
            "min_width": null,
            "border": null,
            "align_items": null,
            "bottom": null,
            "_model_module": "@jupyter-widgets/base",
            "top": null,
            "grid_column": null,
            "overflow_y": null,
            "overflow_x": null,
            "grid_auto_flow": null,
            "grid_area": null,
            "grid_template_columns": null,
            "flex": null,
            "_model_name": "LayoutModel",
            "justify_items": null,
            "grid_row": null,
            "max_height": null,
            "align_content": null,
            "visibility": null,
            "align_self": null,
            "height": null,
            "min_height": null,
            "padding": null,
            "grid_auto_rows": null,
            "grid_gap": null,
            "max_width": null,
            "order": null,
            "_view_module_version": "1.2.0",
            "grid_template_areas": null,
            "object_position": null,
            "object_fit": null,
            "grid_auto_columns": null,
            "margin": null,
            "display": null,
            "left": null
          }
        }
      }
    }
  },
  "cells": [
    {
      "cell_type": "markdown",
      "metadata": {
        "id": "view-in-github",
        "colab_type": "text"
      },
      "source": [
        "<a href=\"https://colab.research.google.com/github/purbid/legal_ai/blob/main/distillbet.ipynb\" target=\"_parent\"><img src=\"https://colab.research.google.com/assets/colab-badge.svg\" alt=\"Open In Colab\"/></a>"
      ]
    },
    {
      "cell_type": "code",
      "metadata": {
        "id": "IpoPJ8PfShLS",
        "colab": {
          "base_uri": "https://localhost:8080/"
        },
        "outputId": "58d5034c-01c3-4236-9ef9-ee289e142273"
      },
      "source": [
        "import json\n",
        "from pathlib import Path\n",
        "import nltk\n",
        "!nltk.download('reuters')"
      ],
      "execution_count": 14,
      "outputs": [
        {
          "output_type": "stream",
          "text": [
            "/bin/bash: -c: line 0: syntax error near unexpected token `'reuters''\n",
            "/bin/bash: -c: line 0: `nltk.download('reuters')'\n"
          ],
          "name": "stdout"
        }
      ]
    },
    {
      "cell_type": "code",
      "metadata": {
        "id": "7vY4wqBhS0z2"
      },
      "source": [
        "!pip install transformers"
      ],
      "execution_count": null,
      "outputs": []
    },
    {
      "cell_type": "code",
      "metadata": {
        "id": "mJQKIZRgVcUP"
      },
      "source": [
        "# import nltk\n",
        "# from nltk.corpus import reuters\n",
        "# from nltk import sent_tokenize\n",
        "# text = \"\"\n",
        "# for file_id in reuters.fileids():\n",
        "#     text += reuters.raw(file_id)\n",
        "# from nltk.tokenize.punkt import PunktSentenceTokenizer, PunktTrainer\n",
        "# trainer = PunktTrainer()\n",
        "# trainer.INCLUDE_ALL_COLLOCS = True\n",
        "# trainer.train(text)\n",
        "# tokenizer = PunktSentenceTokenizer(trainer.get_params())\n",
        "# import re"
      ],
      "execution_count": 17,
      "outputs": []
    },
    {
      "cell_type": "code",
      "metadata": {
        "id": "4Ke7f07DS2gC"
      },
      "source": [
        "def read_ipc(data_dict, split):\n",
        "    # path = Path(path)\n",
        "    # with open(path, 'rb') as f:\n",
        "    #     squad_dict = json.load(f)\n",
        "    squad_dict=data_dict \n",
        "    contexts = []\n",
        "    questions = []\n",
        "    answers = []\n",
        "    train_contexts = []\n",
        "    train_questions = []\n",
        "    train_answers = []\n",
        "    val_contexts = []\n",
        "    val_questions = []\n",
        "    val_answers = []\n",
        "    \n",
        "    #### for these following contexts(paras), I very smartly typed out the answers \n",
        "    #### instead of selecting a span in context, Hence the annotator had to\n",
        "    #### select start_token as -1. We will skip them.  \n",
        "    \n",
        "    wrong_answers=[15,29,35,39]\n",
        "    \n",
        "    for x,group in enumerate(squad_dict['data']):\n",
        "        for passage in group['paragraphs']:\n",
        "            context = passage['context']\n",
        "            for qa in passage['qas']:\n",
        "                question = qa['question']\n",
        "                for answer in qa['answers']:\n",
        "                    if answer['answer_start']!=-1:\n",
        "                        contexts.append(context)\n",
        "                        questions.append(question)\n",
        "                        answers.append(answer)\n",
        "    \n",
        "    ##### splitting wrt number split given#####\n",
        "    train_end=int(len(contexts)*split)\n",
        "    ## 0 to 294 \n",
        "    \n",
        "    for x in range(train_end):\n",
        "        train_contexts.append(contexts[x])\n",
        "        train_questions.append(questions[x])\n",
        "        train_answers.append(answers[x])\n",
        "    print(len(train_answers))\n",
        "    ### 295 to end of doc\n",
        "    for x in range(train_end,len(contexts)):\n",
        "        val_contexts.append(contexts[x])\n",
        "        val_questions.append(questions[x])\n",
        "        val_answers.append(answers[x])\n",
        "        \n",
        "    print(len(val_answers))   \n",
        "    return train_contexts, train_questions, train_answers,val_contexts, val_questions, val_answers"
      ],
      "execution_count": 18,
      "outputs": []
    },
    {
      "cell_type": "code",
      "metadata": {
        "id": "X0nxtNWzUfGN"
      },
      "source": [
        "import urllib.request\n",
        "import urllib, json\n",
        "# url = \"https://cb8e71e8ddfa.ngrok.io/ipc.json\"\n",
        "# response = urllib.request.urlopen(url)\n",
        "# data = json.loads(response.read())\n",
        "f = open('/content/drive/MyDrive/cdqa_ipc.json')\n",
        "data = json.load(f)"
      ],
      "execution_count": 19,
      "outputs": []
    },
    {
      "cell_type": "code",
      "metadata": {
        "id": "HFjhMH1bf04f",
        "colab": {
          "base_uri": "https://localhost:8080/"
        },
        "outputId": "64ff861b-28b9-4900-8f0a-91481288f832"
      },
      "source": [
        "print(str(data)[:100])"
      ],
      "execution_count": 20,
      "outputs": [
        {
          "output_type": "stream",
          "text": [
            "{'data': [{'title': 'S. 1 Title and extent of operation of the Code', 'paragraphs': [{'context': 'Ti\n"
          ],
          "name": "stdout"
        }
      ]
    },
    {
      "cell_type": "code",
      "metadata": {
        "id": "tSgIoEdBTxN8",
        "colab": {
          "base_uri": "https://localhost:8080/"
        },
        "outputId": "31b42fef-3ce5-4874-b5cd-0471a4e35302"
      },
      "source": [
        "\n",
        "train_contexts, train_questions, train_answers,val_contexts, val_questions, val_answers = read_ipc(data,0.8)"
      ],
      "execution_count": 21,
      "outputs": [
        {
          "output_type": "stream",
          "text": [
            "294\n",
            "74\n"
          ],
          "name": "stdout"
        }
      ]
    },
    {
      "cell_type": "code",
      "metadata": {
        "id": "oc4dd0Cog4QI",
        "colab": {
          "base_uri": "https://localhost:8080/"
        },
        "outputId": "07ba208a-9bf0-4178-a021-fda415d4b2ff"
      },
      "source": [
        "print((train_contexts[0]))\n",
        "print((train_questions[0]))\n",
        "print((train_answers[0]))"
      ],
      "execution_count": 22,
      "outputs": [
        {
          "output_type": "stream",
          "text": [
            "Title and extent of operation of the Code\n",
            "what is section 1 of IPC\n",
            "{'answer_start': 0, 'text': 'Title and extent of operation of the Code'}\n"
          ],
          "name": "stdout"
        }
      ]
    },
    {
      "cell_type": "code",
      "metadata": {
        "id": "kvopbxsST4yt"
      },
      "source": [
        "def add_end_idx(answers, contexts):\n",
        "    for answer, context in zip(answers, contexts):\n",
        "        gold_text = answer['text']\n",
        "        start_idx = answer['answer_start']\n",
        "        end_idx = start_idx + len(gold_text)\n",
        "\n",
        "        # sometimes squad answers are off by a character or two – fix this\n",
        "        if context[start_idx:end_idx] == gold_text:\n",
        "            answer['answer_end'] = end_idx\n",
        "        elif context[start_idx-1:end_idx-1] == gold_text:\n",
        "            answer['answer_start'] = start_idx - 1\n",
        "            answer['answer_end'] = end_idx - 1     # When the gold label is off by one character\n",
        "        elif context[start_idx-2:end_idx-2] == gold_text:\n",
        "            answer['answer_start'] = start_idx - 2\n",
        "            answer['answer_end'] = end_idx - 2     # When the gold label is off by two characters\n",
        "\n",
        "add_end_idx(train_answers, train_contexts)\n",
        "add_end_idx(val_answers, val_contexts)"
      ],
      "execution_count": 23,
      "outputs": []
    },
    {
      "cell_type": "code",
      "metadata": {
        "id": "2I0dgdynWYZ_"
      },
      "source": [
        "from transformers import DistilBertTokenizerFast\n",
        "tokenizer = DistilBertTokenizerFast.from_pretrained('distilbert-base-uncased')\n",
        "\n",
        "train_encodings = tokenizer(train_contexts, train_questions, truncation=True, padding=True)\n",
        "val_encodings = tokenizer(val_contexts, val_questions, truncation=True, padding=True)\n"
      ],
      "execution_count": 27,
      "outputs": []
    },
    {
      "cell_type": "code",
      "metadata": {
        "id": "8ENTL6APn2fx",
        "colab": {
          "base_uri": "https://localhost:8080/"
        },
        "outputId": "274d85e1-3a89-41c4-a7ea-640ea5bd73fb"
      },
      "source": [
        "print(tokenizer)"
      ],
      "execution_count": 28,
      "outputs": [
        {
          "output_type": "stream",
          "text": [
            "PreTrainedTokenizerFast(name_or_path='distilbert-base-uncased', vocab_size=30522, model_max_len=512, is_fast=True, padding_side='right', special_tokens={'unk_token': '[UNK]', 'sep_token': '[SEP]', 'pad_token': '[PAD]', 'cls_token': '[CLS]', 'mask_token': '[MASK]'})\n"
          ],
          "name": "stdout"
        }
      ]
    },
    {
      "cell_type": "code",
      "metadata": {
        "id": "moKhdTvSWaiK",
        "colab": {
          "base_uri": "https://localhost:8080/"
        },
        "outputId": "6ea38e29-c473-43f1-9343-bffc4ceeba2a"
      },
      "source": [
        "def add_token_positions(encodings, answers):\n",
        "    start_positions = []\n",
        "    end_positions = []\n",
        "    print(len(answers))\n",
        "    for i in range(len(answers)):\n",
        "        try:\n",
        "            start_positions.append(encodings.char_to_token(i, answers[i]['answer_start']))\n",
        "            end_positions.append(encodings.char_to_token(i, answers[i]['answer_end'] - 1))\n",
        "            # if None, the answer passage has been truncated\n",
        "            if start_positions[-1] is None:\n",
        "                start_positions[-1] = tokenizer.model_max_length\n",
        "            if end_positions[-1] is None:\n",
        "                end_positions[-1] = tokenizer.model_max_length\n",
        "        except:\n",
        "            print(answers[i],i)\n",
        "    encodings.update({'start_positions': start_positions, 'end_positions': end_positions})\n",
        "\n",
        "add_token_positions(train_encodings, train_answers)\n",
        "add_token_positions(val_encodings, val_answers)"
      ],
      "execution_count": 29,
      "outputs": [
        {
          "output_type": "stream",
          "text": [
            "294\n",
            "74\n"
          ],
          "name": "stdout"
        }
      ]
    },
    {
      "cell_type": "code",
      "metadata": {
        "id": "9y9WY2_zWflX"
      },
      "source": [
        "import torch\n",
        "\n",
        "class IpcDataset(torch.utils.data.Dataset):\n",
        "    def __init__(self, encodings):\n",
        "        self.encodings = encodings\n",
        "\n",
        "    def __getitem__(self, idx):\n",
        "        return {key: torch.tensor(val[idx]) for key, val in self.encodings.items()}\n",
        "\n",
        "    def __len__(self):\n",
        "        return len(self.encodings.input_ids)\n",
        "\n",
        "train_dataset = IpcDataset(train_encodings)\n",
        "val_dataset = IpcDataset(val_encodings)"
      ],
      "execution_count": 30,
      "outputs": []
    },
    {
      "cell_type": "code",
      "metadata": {
        "id": "SO9jgQ2ln05m"
      },
      "source": [
        "############# CONSIDER FROM HERE "
      ],
      "execution_count": null,
      "outputs": []
    },
    {
      "cell_type": "code",
      "metadata": {
        "id": "oESoA5M3WiX8",
        "colab": {
          "base_uri": "https://localhost:8080/",
          "height": 220,
          "referenced_widgets": [
            "e157845317a24e5e907d390d9505e77c",
            "fdce2c0e5bca449daa1debaa8c061d74",
            "1b6ba66ced0c446c950d3fbd5de82772",
            "27ef7d7f4d664a048d4fe4e379aec1a8",
            "19b1eea34cfe40509b97dae70dcfbbcb",
            "2f7c8783b6a14e0689c713fcfd0e67cf",
            "fe612410a5fc43ae9bcb7bd42aba82bf",
            "616fcb0eeeb84e919a5a8edc13cd4d07",
            "d6db1841f9db4d24ba0d8d12c4c874e0",
            "94c8a9b4ff90445994aca623dde7982d",
            "17b217fb05844d1aaae52a4c2f2c9cad",
            "189c56b3dc384b23b16eee54566c6074",
            "023935923c8b4dd692ef526e6b03f14d",
            "abc03c326613463da34e7393c9e4fede",
            "15c44d2bf4184799bab222abbb1e050a",
            "8e025d0c916f4599bee1a079e0055e6a"
          ]
        },
        "outputId": "9bc230cc-9b8b-45bd-86a8-7101bd673f45"
      },
      "source": [
        "from transformers import DistilBertForQuestionAnswering\n",
        "model_db = DistilBertForQuestionAnswering.from_pretrained(\"distilbert-base-uncased\")"
      ],
      "execution_count": 31,
      "outputs": [
        {
          "output_type": "display_data",
          "data": {
            "application/vnd.jupyter.widget-view+json": {
              "model_id": "e157845317a24e5e907d390d9505e77c",
              "version_minor": 0,
              "version_major": 2
            },
            "text/plain": [
              "HBox(children=(FloatProgress(value=0.0, description='Downloading', max=442.0, style=ProgressStyle(description_…"
            ]
          },
          "metadata": {
            "tags": []
          }
        },
        {
          "output_type": "stream",
          "text": [
            "\n"
          ],
          "name": "stdout"
        },
        {
          "output_type": "display_data",
          "data": {
            "application/vnd.jupyter.widget-view+json": {
              "model_id": "d6db1841f9db4d24ba0d8d12c4c874e0",
              "version_minor": 0,
              "version_major": 2
            },
            "text/plain": [
              "HBox(children=(FloatProgress(value=0.0, description='Downloading', max=267967963.0, style=ProgressStyle(descri…"
            ]
          },
          "metadata": {
            "tags": []
          }
        },
        {
          "output_type": "stream",
          "text": [
            "\n"
          ],
          "name": "stdout"
        },
        {
          "output_type": "stream",
          "text": [
            "Some weights of the model checkpoint at distilbert-base-uncased were not used when initializing DistilBertForQuestionAnswering: ['vocab_transform.weight', 'vocab_transform.bias', 'vocab_projector.weight', 'vocab_layer_norm.weight', 'vocab_projector.bias', 'vocab_layer_norm.bias']\n",
            "- This IS expected if you are initializing DistilBertForQuestionAnswering from the checkpoint of a model trained on another task or with another architecture (e.g. initializing a BertForSequenceClassification model from a BertForPreTraining model).\n",
            "- This IS NOT expected if you are initializing DistilBertForQuestionAnswering from the checkpoint of a model that you expect to be exactly identical (initializing a BertForSequenceClassification model from a BertForSequenceClassification model).\n",
            "Some weights of DistilBertForQuestionAnswering were not initialized from the model checkpoint at distilbert-base-uncased and are newly initialized: ['qa_outputs.weight', 'qa_outputs.bias']\n",
            "You should probably TRAIN this model on a down-stream task to be able to use it for predictions and inference.\n"
          ],
          "name": "stderr"
        }
      ]
    },
    {
      "cell_type": "code",
      "metadata": {
        "id": "30Jr7Q_LWmTD"
      },
      "source": [
        "'''this cell is code for fine tuning'''\n",
        "\n",
        "from torch.utils.data import DataLoader\n",
        "from transformers import AdamW\n",
        "\n",
        "device = torch.device('cuda') if torch.cuda.is_available() else torch.device('cpu')\n",
        "model_db.to(device)\n",
        "model_db.train()\n",
        "\n",
        "train_loader = DataLoader(train_dataset, batch_size=16, shuffle=True)\n",
        "\n",
        "optim = AdamW(model_db.parameters(), lr=5e-5)\n",
        "\n",
        "for epoch in range(10):\n",
        "    for x,batch in enumerate(train_loader):\n",
        "        optim.zero_grad()\n",
        "        input_ids = batch['input_ids'].to(device)\n",
        "        attention_mask = batch['attention_mask'].to(device)\n",
        "        start_positions = batch['start_positions'].to(device)\n",
        "        end_positions = batch['end_positions'].to(device)\n",
        "        outputs = model_db(input_ids, attention_mask=attention_mask, start_positions=start_positions, end_positions=end_positions)\n",
        "        loss = outputs[0]\n",
        "        loss.backward()\n",
        "        optim.step()\n",
        "        if x == 10:\n",
        "            print(\"batch: \"+str(x)+\" loss: \"+str(loss))\n",
        "model_db.eval()"
      ],
      "execution_count": null,
      "outputs": []
    },
    {
      "cell_type": "code",
      "metadata": {
        "colab": {
          "base_uri": "https://localhost:8080/",
          "height": 35
        },
        "id": "Cv82OEIvTfIm",
        "outputId": "7a901224-3b8a-4e85-913c-ab62cd3f11df"
      },
      "source": [
        "val_questions[1]"
      ],
      "execution_count": 37,
      "outputs": [
        {
          "output_type": "execute_result",
          "data": {
            "application/vnd.google.colaboratory.intrinsic+json": {
              "type": "string"
            },
            "text/plain": [
              "'punishment for attempted larceny?'"
            ]
          },
          "metadata": {
            "tags": []
          },
          "execution_count": 37
        }
      ]
    },
    {
      "cell_type": "code",
      "metadata": {
        "id": "6mcBDgFcWsc1",
        "colab": {
          "base_uri": "https://localhost:8080/"
        },
        "outputId": "59a4f99f-f05e-4d23-b87a-6b0e90286efe"
      },
      "source": [
        "# question=\"what is the punishment for preparing to commit dacoity?\" \n",
        "question = val_questions[1]\n",
        "# paragraph=\"Whoever makes any preparation for committing dacoity, shall be punished with rigorous imprisonment for a term which may extend to ten years, and shall also be liable to fine.\"\n",
        "# val_contexts[2]\n",
        "paragraph = val_contexts[2]\n",
        "ans=val_answers[2]\n",
        "# val_answers[2]\n",
        "print(question)\n",
        "print(paragraph)\n",
        "print(ans)"
      ],
      "execution_count": 41,
      "outputs": [
        {
          "output_type": "stream",
          "text": [
            "punishment for attempted larceny?\n",
            "Whoever makes any preparation for committing dacoity, shall be punished with rigorous imprisonment for a term which may extend to ten years, and shall also be liable to fine.\n",
            "{'answer_start': 86, 'text': 'imprisonment for a term which may extend to ten years, and shall also be liable to fine.', 'answer_end': 174}\n"
          ],
          "name": "stdout"
        }
      ]
    },
    {
      "cell_type": "code",
      "metadata": {
        "id": "RBpgArE4jgJJ",
        "colab": {
          "base_uri": "https://localhost:8080/"
        },
        "outputId": "a2fa5dd2-96bf-4321-bddc-69c9b862fc35"
      },
      "source": [
        "encoding = tokenizer.encode_plus(text=question,text_pair=paragraph)\n",
        "input_ids, attention_mask = encoding[\"input_ids\"], encoding[\"attention_mask\"]\n",
        "tokens = tokenizer.convert_ids_to_tokens(input_ids) #input tokens\n",
        "print(tokens)\n",
        "# print(input_ids, attention_mask)"
      ],
      "execution_count": 42,
      "outputs": [
        {
          "output_type": "stream",
          "text": [
            "['[CLS]', 'punishment', 'for', 'attempted', 'la', '##rce', '##ny', '?', '[SEP]', 'whoever', 'makes', 'any', 'preparation', 'for', 'committing', 'da', '##co', '##ity', ',', 'shall', 'be', 'punished', 'with', 'rigorous', 'imprisonment', 'for', 'a', 'term', 'which', 'may', 'extend', 'to', 'ten', 'years', ',', 'and', 'shall', 'also', 'be', 'liable', 'to', 'fine', '.', '[SEP]']\n"
          ],
          "name": "stdout"
        }
      ]
    },
    {
      "cell_type": "code",
      "metadata": {
        "id": "Jo4z6PDYk4Y1",
        "colab": {
          "base_uri": "https://localhost:8080/"
        },
        "outputId": "aa0f55a8-6ae6-4214-f517-959eaca1ee20"
      },
      "source": [
        "print(tokenizer)"
      ],
      "execution_count": 43,
      "outputs": [
        {
          "output_type": "stream",
          "text": [
            "PreTrainedTokenizerFast(name_or_path='distilbert-base-uncased', vocab_size=30522, model_max_len=512, is_fast=True, padding_side='right', special_tokens={'unk_token': '[UNK]', 'sep_token': '[SEP]', 'pad_token': '[PAD]', 'cls_token': '[CLS]', 'mask_token': '[MASK]'})\n"
          ],
          "name": "stdout"
        }
      ]
    },
    {
      "cell_type": "code",
      "metadata": {
        "id": "9lRsa1s_lK6A"
      },
      "source": [
        "ip=torch.tensor([input_ids]).to(device)\n",
        "attention=torch.tensor([attention_mask]).to(device)\n"
      ],
      "execution_count": 44,
      "outputs": []
    },
    {
      "cell_type": "code",
      "metadata": {
        "id": "4qy7Chw3lSr8"
      },
      "source": [
        "output = model_db(ip, attention)\n",
        "start_scores = output.start_logits\n",
        "end_scores = output.end_logits"
      ],
      "execution_count": 56,
      "outputs": []
    },
    {
      "cell_type": "code",
      "metadata": {
        "id": "dyQUiSiX1jkB",
        "colab": {
          "base_uri": "https://localhost:8080/"
        },
        "outputId": "4e3d1ae6-6845-481b-f9af-3b641616a083"
      },
      "source": [
        "max_startscore = torch.argmax(start_scores)\n",
        "max_endscore = torch.argmax(end_scores)\n",
        "ans_tokens = input_ids[max_startscore: max_endscore + 1]\n",
        "# answer = ' '.join(tokens[start_index:end_index+1])\n",
        "print(ans_tokens)\n",
        "answer = ' '.join(tokens[max_startscore:max_endscore+1])\n",
        "print(\"question: \"+str(question))\n",
        "print(\"answer: \"+str(answer))\n",
        "print(\"context: \"+str(paragraph))\n"
      ],
      "execution_count": 57,
      "outputs": [
        {
          "output_type": "stream",
          "text": [
            "[20001, 10219, 2005, 1037, 2744, 2029, 2089, 7949, 2000, 2702, 2086, 1010, 1998, 4618, 2036, 2022, 20090, 2000, 2986, 1012]\n",
            "question: punishment for attempted larceny?\n",
            "answer: rigorous imprisonment for a term which may extend to ten years , and shall also be liable to fine .\n",
            "context: Whoever makes any preparation for committing dacoity, shall be punished with rigorous imprisonment for a term which may extend to ten years, and shall also be liable to fine.\n"
          ],
          "name": "stdout"
        }
      ]
    }
  ]
}